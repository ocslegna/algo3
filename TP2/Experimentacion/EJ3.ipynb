{
 "cells": [
  {
   "cell_type": "code",
   "execution_count": 16,
   "metadata": {
    "collapsed": true
   },
   "outputs": [],
   "source": [
    "%matplotlib inline\n",
    "import pandas as pd\n",
    "import matplotlib.pyplot as plt\n",
    "import seaborn as sns\n",
    "import math as math\n",
    "import numpy as np"
   ]
  },
  {
   "cell_type": "code",
   "execution_count": 31,
   "metadata": {},
   "outputs": [
    {
     "data": {
      "text/html": [
       "<div>\n",
       "<table border=\"1\" class=\"dataframe\">\n",
       "  <thead>\n",
       "    <tr style=\"text-align: right;\">\n",
       "      <th></th>\n",
       "      <th>nanoseconds</th>\n",
       "      <th>R*log(100)</th>\n",
       "      <th>R*log(R)</th>\n",
       "      <th>(R^2)*log(100)</th>\n",
       "    </tr>\n",
       "  </thead>\n",
       "  <tbody>\n",
       "    <tr>\n",
       "      <th>nanoseconds</th>\n",
       "      <td>1.000000</td>\n",
       "      <td>0.984978</td>\n",
       "      <td>0.987000</td>\n",
       "      <td>0.977765</td>\n",
       "    </tr>\n",
       "    <tr>\n",
       "      <th>R*log(100)</th>\n",
       "      <td>0.984978</td>\n",
       "      <td>1.000000</td>\n",
       "      <td>0.999428</td>\n",
       "      <td>0.977751</td>\n",
       "    </tr>\n",
       "    <tr>\n",
       "      <th>R*log(R)</th>\n",
       "      <td>0.987000</td>\n",
       "      <td>0.999428</td>\n",
       "      <td>1.000000</td>\n",
       "      <td>0.984179</td>\n",
       "    </tr>\n",
       "    <tr>\n",
       "      <th>(R^2)*log(100)</th>\n",
       "      <td>0.977765</td>\n",
       "      <td>0.977751</td>\n",
       "      <td>0.984179</td>\n",
       "      <td>1.000000</td>\n",
       "    </tr>\n",
       "  </tbody>\n",
       "</table>\n",
       "</div>"
      ],
      "text/plain": [
       "                nanoseconds  R*log(100)  R*log(R)  (R^2)*log(100)\n",
       "nanoseconds        1.000000    0.984978  0.987000        0.977765\n",
       "R*log(100)         0.984978    1.000000  0.999428        0.977751\n",
       "R*log(R)           0.987000    0.999428  1.000000        0.984179\n",
       "(R^2)*log(100)     0.977765    0.977751  0.984179        1.000000"
      ]
     },
     "execution_count": 31,
     "metadata": {},
     "output_type": "execute_result"
    }
   ],
   "source": [
    "df = pd.read_csv('Resultados/EJ3/first_experiment.csv')\n",
    "df2 = pd.DataFrame()\n",
    "group = df.groupby('routes')\n",
    "# group.keys()\n",
    "df2['nanoseconds'] = group['nanoseconds'].mean()\n",
    "df2['R*log(100)'] = [(i * math.log(100))  for i in range(100, 1078)]\n",
    "df2['R*log(R)'] = [((i) * math.log(i))  for i in range(100, 1078)]\n",
    "df2['(R^2)*log(100)'] = [((i**2) * math.log(100))  for i in range(100, 1078)]\n",
    "df2.corr()"
   ]
  },
  {
   "cell_type": "code",
   "execution_count": null,
   "metadata": {
    "collapsed": true
   },
   "outputs": [],
   "source": []
  }
 ],
 "metadata": {
  "hide_input": false,
  "kernelspec": {
   "display_name": "Python 3",
   "language": "python",
   "name": "python3"
  },
  "language_info": {
   "codemirror_mode": {
    "name": "ipython",
    "version": 3
   },
   "file_extension": ".py",
   "mimetype": "text/x-python",
   "name": "python",
   "nbconvert_exporter": "python",
   "pygments_lexer": "ipython3",
   "version": "3.5.1"
  }
 },
 "nbformat": 4,
 "nbformat_minor": 2
}
