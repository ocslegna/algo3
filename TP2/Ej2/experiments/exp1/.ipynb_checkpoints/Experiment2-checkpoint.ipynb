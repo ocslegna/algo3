{
 "cells": [
  {
   "cell_type": "code",
   "execution_count": 45,
   "metadata": {
    "collapsed": true
   },
   "outputs": [],
   "source": [
    "import pandas as pd\n",
    "import seaborn as sns\n",
    "import matplotlib.pyplot as plt\n",
    "import numpy as np\n",
    "import math"
   ]
  },
  {
   "cell_type": "code",
   "execution_count": 2,
   "metadata": {
    "collapsed": true
   },
   "outputs": [],
   "source": [
    "df = pd.read_csv('exp1-complete.csv', delimiter=';')"
   ]
  },
  {
   "cell_type": "code",
   "execution_count": 3,
   "metadata": {},
   "outputs": [
    {
     "name": "stdout",
     "output_type": "stream",
     "text": [
      "        modo  vertices  aristas  duracion  densidad\n",
      "0     basico        10       45     90844         1\n",
      "1     basico        10       45     91784         1\n",
      "2     basico        10       45     92248         1\n",
      "3     basico        10       45     95444         1\n",
      "4     basico        10       45     98812         1\n",
      "5     basico        10       45     92544         1\n",
      "6     basico        10       45     93484         1\n",
      "7     basico        10       45     93344         1\n",
      "8     basico        10       45     92232         1\n",
      "9     basico        10       45    100240         1\n",
      "10    basico        10       45    101740         1\n",
      "11    basico        11       55    101952         1\n",
      "12    basico        11       55    101284         1\n",
      "13    basico        11       55    107264         1\n",
      "14    basico        11       55    102752         1\n",
      "15    basico        11       55    101256         1\n",
      "16    basico        11       55    106268         1\n",
      "17    basico        11       55     99620         1\n",
      "18    basico        11       55    103796         1\n",
      "19    basico        11       55    100608         1\n",
      "20    basico        11       55    109860         1\n",
      "21    basico        11       55     99076         1\n",
      "22    basico        12       66    112184         1\n",
      "23    basico        12       66    113240         1\n",
      "24    basico        12       66    114900         1\n",
      "25    basico        12       66    117292         1\n",
      "26    basico        12       66    113200         1\n",
      "27    basico        12       66    109964         1\n",
      "28    basico        12       66    112112         1\n",
      "29    basico        12       66    128276         1\n",
      "...      ...       ...      ...       ...       ...\n",
      "5371  basico       498   123753  46774556         1\n",
      "5372  basico       498   123753  48093244         1\n",
      "5373  basico       498   123753  46767332         1\n",
      "5374  basico       498   123753  46766852         1\n",
      "5375  basico       498   123753  46773160         1\n",
      "5376  basico       498   123753  46803552         1\n",
      "5377  basico       498   123753  46827176         1\n",
      "5378  basico       498   123753  46741032         1\n",
      "5379  basico       499   124251  46219152         1\n",
      "5380  basico       499   124251  46168676         1\n",
      "5381  basico       499   124251  46207748         1\n",
      "5382  basico       499   124251  46307804         1\n",
      "5383  basico       499   124251  46200716         1\n",
      "5384  basico       499   124251  46342456         1\n",
      "5385  basico       499   124251  46267492         1\n",
      "5386  basico       499   124251  46127372         1\n",
      "5387  basico       499   124251  46426232         1\n",
      "5388  basico       499   124251  46178012         1\n",
      "5389  basico       499   124251  46262424         1\n",
      "5390  basico       500   124750  46203104         1\n",
      "5391  basico       500   124750  46195372         1\n",
      "5392  basico       500   124750  46243408         1\n",
      "5393  basico       500   124750  46220116         1\n",
      "5394  basico       500   124750  46402952         1\n",
      "5395  basico       500   124750  46285904         1\n",
      "5396  basico       500   124750  46234488         1\n",
      "5397  basico       500   124750  46205800         1\n",
      "5398  basico       500   124750  46205132         1\n",
      "5399  basico       500   124750  46401996         1\n",
      "5400  basico       500   124750  46242336         1\n",
      "\n",
      "[5401 rows x 5 columns]\n"
     ]
    }
   ],
   "source": [
    "print(df)"
   ]
  },
  {
   "cell_type": "code",
   "execution_count": 20,
   "metadata": {},
   "outputs": [
    {
     "data": {
      "image/png": "[encoded data removed]",
      "text/plain": [
       "<matplotlib.figure.Figure at 0x7f2d891909e8>"
      ]
     },
     "metadata": {},
     "output_type": "display_data"
    }
   ],
   "source": [
    "ax = plt.gca()\n",
    "title_label = ('básico')\n",
    "for title, group in df.groupby('modo'):\n",
    "    group = group.groupby('vertices').median().reset_index()\n",
    "    group.plot(x='vertices', y='duracion', label=title_label, ax=ax)\n",
    "plt.ylabel('ticks de reloj')\n",
    "plt.xlabel('cantidad de vértices')\n",
    "plt.title('básico')\n",
    "plt.show()"
   ]
  },
  {
   "cell_type": "code",
   "execution_count": 59,
   "metadata": {},
   "outputs": [
    {
     "name": "stdout",
     "output_type": "stream",
     "text": [
      "0.974823976278\n",
      "0.999695409304\n",
      "0.983196673259\n",
      "0.954241460598\n",
      "0.82187147585\n"
     ]
    },
    {
     "data": {
      "text/plain": [
       "0.99969540930399736"
      ]
     },
     "execution_count": 59,
     "metadata": {},
     "output_type": "execute_result"
    }
   ],
   "source": [
    "ax = plt.gca()\n",
    "for title, group in df.groupby('modo'):\n",
    "    group = group.groupby('vertices').median().reset_index()\n",
    "    group.plot(x='vertices', y='duracion', label=title_label, ax=ax)\n",
    "#print(group['duracion'])\n",
    "#print(group)\n",
    "t = np.arange(10,501)\n",
    "tnlogn = []\n",
    "\n",
    "for i in range(0, len(t)):\n",
    "    tnlogn.append(math.log(t[i], 10))\n",
    "\n",
    "lin = np.corrcoef(group['duracion'], t)[0,1]\n",
    "cuad = np.corrcoef(group['duracion'], t**2)[0,1]\n",
    "cub = np.corrcoef(group['duracion'], t**3)[0,1]\n",
    "cuart = np.corrcoef(group['duracion'], t**4)[0,1]\n",
    "nlogn = np.corrcoef(group['duracion'], tnlogn)[0,1]\n",
    "print(lin)\n",
    "print(cuad)\n",
    "print(cub)\n",
    "print(cuart)\n",
    "print(nlogn)\n",
    "\n",
    "tcuad = t**2\n",
    "tgroup = group['duracion']\n",
    "np.corrcoef(tgroup[:500], tcuad[:500])[0,1]"
   ]
  },
  {
   "cell_type": "code",
   "execution_count": null,
   "metadata": {
    "collapsed": true
   },
   "outputs": [],
   "source": []
  }
 ],
 "metadata": {
  "kernelspec": {
   "display_name": "Python 3",
   "language": "python",
   "name": "python3"
  },
  "language_info": {
   "codemirror_mode": {
    "name": "ipython",
    "version": 3
   },
   "file_extension": ".py",
   "mimetype": "text/x-python",
   "name": "python",
   "nbconvert_exporter": "python",
   "pygments_lexer": "ipython3",
   "version": "3.4.3"
  }
 },
 "nbformat": 4,
 "nbformat_minor": 2
}
