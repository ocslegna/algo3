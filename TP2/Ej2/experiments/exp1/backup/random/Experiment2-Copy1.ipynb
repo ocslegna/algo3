{
 "cells": [
  {
   "cell_type": "code",
   "execution_count": 27,
   "metadata": {
    "collapsed": true
   },
   "outputs": [],
   "source": [
    "import pandas as pd\n",
    "import seaborn as sns\n",
    "import matplotlib.pyplot as plt\n",
    "import numpy as np\n",
    "import math"
   ]
  },
  {
   "cell_type": "code",
   "execution_count": 28,
   "metadata": {
    "collapsed": true
   },
   "outputs": [],
   "source": [
    "df = pd.read_csv('exp1-random.csv', delimiter=';')\n",
    "df_comp = pd.read_csv('exp1-complete.csv', delimiter=';')"
   ]
  },
  {
   "cell_type": "code",
   "execution_count": 29,
   "metadata": {},
   "outputs": [
    {
     "name": "stdout",
     "output_type": "stream",
     "text": [
      "          modo  vertices  aristas    duracion  densidad\n",
      "0       basico        10        0    118996.0  0.599840\n",
      "1       basico        10        0     95648.0  0.599840\n",
      "2       basico        10        0     95296.0  0.599840\n",
      "3       basico        10        0     93640.0  0.599840\n",
      "4       basico        10        0    179088.0  0.599840\n",
      "5       basico        10        0     97708.0  0.599840\n",
      "6       basico        10        0     92576.0  0.599840\n",
      "7       basico        10        0     93636.0  0.599840\n",
      "8       basico        10        0    113728.0  0.599840\n",
      "9       basico        10        0     95672.0  0.599840\n",
      "10      basico        10        0     96368.0  0.599840\n",
      "11      basico        10        1         NaN  0.081141\n",
      "12      basico        10        1         NaN  0.081141\n",
      "13      basico        10        1         NaN  0.081141\n",
      "14      basico        10        1         NaN  0.081141\n",
      "15      basico        10        1         NaN  0.081141\n",
      "16      basico        10        1         NaN  0.081141\n",
      "17      basico        10        1         NaN  0.081141\n",
      "18      basico        10        1         NaN  0.081141\n",
      "19      basico        10        1         NaN  0.081141\n",
      "20      basico        10        1         NaN  0.081141\n",
      "21      basico        10        1         NaN  0.081141\n",
      "22      basico        10        2     96628.0  0.973809\n",
      "23      basico        10        2     97676.0  0.973809\n",
      "24      basico        10        2     97268.0  0.973809\n",
      "25      basico        10        2    121540.0  0.973809\n",
      "26      basico        10        2     99168.0  0.973809\n",
      "27      basico        10        2     96420.0  0.973809\n",
      "28      basico        10        2     94648.0  0.973809\n",
      "29      basico        10        2     95756.0  0.973809\n",
      "...        ...       ...      ...         ...       ...\n",
      "113391  basico       500       18  49002828.0  0.524300\n",
      "113392  basico       500       18  49257152.0  0.524300\n",
      "113393  basico       500       18  49086736.0  0.524300\n",
      "113394  basico       500       18  49013460.0  0.524300\n",
      "113395  basico       500       18  49371632.0  0.524300\n",
      "113396  basico       500       18  49189392.0  0.524300\n",
      "113397  basico       500       18  48974648.0  0.524300\n",
      "113398  basico       500       18  49105400.0  0.524300\n",
      "113399  basico       500       19  48537844.0  0.624374\n",
      "113400  basico       500       19  48487636.0  0.624374\n",
      "113401  basico       500       19  56464028.0  0.624374\n",
      "113402  basico       500       19  48225172.0  0.624374\n",
      "113403  basico       500       19  48299304.0  0.624374\n",
      "113404  basico       500       19  48341728.0  0.624374\n",
      "113405  basico       500       19  48644112.0  0.624374\n",
      "113406  basico       500       19  48345584.0  0.624374\n",
      "113407  basico       500       19  48330300.0  0.624374\n",
      "113408  basico       500       19  48500908.0  0.624374\n",
      "113409  basico       500       19  48406796.0  0.624374\n",
      "113410  basico       500       20  50185464.0  0.308134\n",
      "113411  basico       500       20  49766160.0  0.308134\n",
      "113412  basico       500       20  50027316.0  0.308134\n",
      "113413  basico       500       20  50233840.0  0.308134\n",
      "113414  basico       500       20  49763900.0  0.308134\n",
      "113415  basico       500       20  49830932.0  0.308134\n",
      "113416  basico       500       20  50124108.0  0.308134\n",
      "113417  basico       500       20  49768608.0  0.308134\n",
      "113418  basico       500       20  49781832.0  0.308134\n",
      "113419  basico       500       20  49717420.0  0.308134\n",
      "113420  basico       500       20  50051064.0  0.308134\n",
      "\n",
      "[113421 rows x 5 columns]\n"
     ]
    }
   ],
   "source": [
    "print(df)"
   ]
  },
  {
   "cell_type": "code",
   "execution_count": 36,
   "metadata": {},
   "outputs": [
    {
     "data": {
      "image/png": "[encoded data removed]",
      "text/plain": [
       "<matplotlib.figure.Figure at 0x7fa182385fd0>"
      ]
     },
     "metadata": {},
     "output_type": "display_data"
    }
   ],
   "source": [
    "ax = plt.gca()\n",
    "# Plotting random graphs\n",
    "title_label = ('cantidad m random')\n",
    "for title, group in df.groupby('modo'):\n",
    "    group = group.groupby('vertices').median().reset_index()\n",
    "    group.plot(x='vertices', y='duracion', label=title_label, ax=ax)\n",
    "plt.ylabel('ticks de reloj')\n",
    "plt.xlabel('cantidad de vértices')\n",
    "\n",
    "# Plotting complete graphs\n",
    "title_label2 = ('complete')\n",
    "for title, group in df_comp.groupby('modo'):\n",
    "    group = group.groupby('vertices').median().reset_index()\n",
    "    group.plot(x='vertices', y='duracion', label=title_label2, ax=ax)\n",
    "plt.ylabel('ticks de reloj')\n",
    "plt.xlabel('cantidad de vértices')\n",
    "\n",
    "\n",
    "plt.show()"
   ]
  },
  {
   "cell_type": "code",
   "execution_count": 67,
   "metadata": {},
   "outputs": [
    {
     "name": "stdout",
     "output_type": "stream",
     "text": [
      "Coeficientes de pearson para versión random\n",
      "0.974395187425\n",
      "0.999304499601\n",
      "0.999729367914\n",
      "0.983206814159\n",
      "0.954006804955\n",
      "0.820359472907\n",
      "Coeficientes de pearson para versión completos\n",
      "0.974823976278\n",
      "0.999327915665\n",
      "0.999695409304\n",
      "0.983196673259\n",
      "0.954241460598\n",
      "0.82187147585\n"
     ]
    }
   ],
   "source": [
    "for title, group in df.groupby('modo'):\n",
    "    group = group.groupby('vertices').median().reset_index()\n",
    "    group.plot(x='vertices', y='duracion', label=title_label, ax=ax)\n",
    "#print(group)\n",
    "t = np.arange(10,501)\n",
    "tnlogn = []\n",
    "\n",
    "for i in range(0, len(t)):\n",
    "    tnlogn.append(math.log(t[i], 10))\n",
    "\n",
    "lin = np.corrcoef(group['duracion'], t)[0,1]\n",
    "supralin = np.corrcoef(group['duracion'], t**1.75)[0,1] \n",
    "cuad = np.corrcoef(group['duracion'], t**2)[0,1]\n",
    "cub = np.corrcoef(group['duracion'], t**3)[0,1]\n",
    "cuart = np.corrcoef(group['duracion'], t**4)[0,1]\n",
    "nlogn = np.corrcoef(group['duracion'], tnlogn)[0,1]\n",
    "print(\"Coeficientes de pearson para versión random\")\n",
    "print(lin)\n",
    "print(supralin)\n",
    "print(cuad)\n",
    "print(cub)\n",
    "print(cuart)\n",
    "print(nlogn)\n",
    "\n",
    "print(\"Coeficientes de pearson para versión completos\")\n",
    "for title, group in df_comp.groupby('modo'):\n",
    "    group = group.groupby('vertices').median().reset_index()\n",
    "    group.plot(x='vertices', y='duracion', label=title_label, ax=ax)\n",
    "#print(group['duracion'])\n",
    "#print(group)\n",
    "t = np.arange(10,501)\n",
    "tnlogn = []\n",
    "\n",
    "for i in range(0, len(t)):\n",
    "    tnlogn.append(math.log(t[i], 10))\n",
    "\n",
    "lin = np.corrcoef(group['duracion'], t)[0,1]\n",
    "supralin = np.corrcoef(group['duracion'], t**1.75)[0,1] \n",
    "cuad = np.corrcoef(group['duracion'], t**2)[0,1]\n",
    "cub = np.corrcoef(group['duracion'], t**3)[0,1]\n",
    "cuart = np.corrcoef(group['duracion'], t**4)[0,1]\n",
    "nlogn = np.corrcoef(group['duracion'], tnlogn)[0,1]\n",
    "print(lin)\n",
    "print(supralin)\n",
    "print(cuad)\n",
    "print(cub)\n",
    "print(cuart)\n",
    "print(nlogn)\n"
   ]
  },
  {
   "cell_type": "code",
   "execution_count": 68,
   "metadata": {},
   "outputs": [
    {
     "data": {
      "image/png": "[encoded data removed]",
      "text/plain": [
       "<matplotlib.figure.Figure at 0x7fa180ceae10>"
      ]
     },
     "metadata": {},
     "output_type": "display_data"
    }
   ],
   "source": [
    "exp = group['duracion']\n",
    "t = np.arange(10,501)\n",
    "tcuad = t**2\n",
    "tcub = t**3\n",
    "tcuart = t**4\n",
    "\n",
    "tran = t**1.75\n",
    "\n",
    "plt.title('Scatterplot')\n",
    "plt.xlabel('X')\n",
    "plt.ylabel('Y')\n",
    "for index in range(0,len(exp), 10):\n",
    "    #plt.scatter(exp[index], t[index], c = 'blue')\n",
    "    plt.scatter(exp[index], tcuad[index], c = 'red')\n",
    "    #plt.scatter(exp[index], tran[index], c = 'red')\n",
    "    #plt.scatter(exp[index], tcub[index], c = 'yellow')\n",
    "\n",
    "plt.show()"
   ]
  },
  {
   "cell_type": "code",
   "execution_count": 47,
   "metadata": {},
   "outputs": [
    {
     "data": {
      "text/plain": [
       "(0.99969540930399736, 0.0)"
      ]
     },
     "execution_count": 47,
     "metadata": {},
     "output_type": "execute_result"
    }
   ],
   "source": [
    "from scipy.stats import pearsonr\n",
    "pearsonr(exp, tcuad)"
   ]
  },
  {
   "cell_type": "code",
   "execution_count": 49,
   "metadata": {},
   "outputs": [
    {
     "data": {
      "image/png": "[encoded data removed]",
      "text/plain": [
       "<matplotlib.figure.Figure at 0x7fa18188d898>"
      ]
     },
     "metadata": {},
     "output_type": "display_data"
    }
   ],
   "source": [
    "exp = group['duracion']\n",
    "t = np.arange(10,501)\n",
    "tcuad = t**2\n",
    "tcub = t**3\n",
    "tcuart = t**4\n",
    "\n",
    "plt.title('Scatterplot')\n",
    "plt.xlabel('X')\n",
    "plt.ylabel('Y')\n",
    "for index in range(0,len(exp)):\n",
    "    #plt.scatter(exp[index], t[index], c = 'blue')\n",
    "    plt.scatter(exp[index], tcuad[index], c = 'red')\n",
    "    #plt.scatter(exp[index], tcub[index], c = 'yellow')\n",
    "\n",
    "plt.show()"
   ]
  },
  {
   "cell_type": "code",
   "execution_count": null,
   "metadata": {
    "collapsed": true
   },
   "outputs": [],
   "source": []
  }
 ],
 "metadata": {
  "kernelspec": {
   "display_name": "Python 3",
   "language": "python",
   "name": "python3"
  },
  "language_info": {
   "codemirror_mode": {
    "name": "ipython",
    "version": 3
   },
   "file_extension": ".py",
   "mimetype": "text/x-python",
   "name": "python",
   "nbconvert_exporter": "python",
   "pygments_lexer": "ipython3",
   "version": "3.4.3"
  }
 },
 "nbformat": 4,
 "nbformat_minor": 2
}
