{
 "cells": [
  {
   "cell_type": "markdown",
   "metadata": {},
   "source": [
    "# Experimentación ejercicio 1: Dinámica\n"
   ]
  },
  {
   "cell_type": "code",
   "execution_count": 57,
   "metadata": {
    "collapsed": true
   },
   "outputs": [],
   "source": [
    "import pandas as pd\n",
    "import matplotlib.pyplot as plt\n",
    "import random\n",
    "import seaborn as sns\n",
    "\n",
    "%matplotlib inline"
   ]
  },
  {
   "cell_type": "code",
   "execution_count": 58,
   "metadata": {
    "collapsed": false
   },
   "outputs": [
    {
     "data": {
      "text/html": [
       "<div>\n",
       "<table border=\"1\" class=\"dataframe\">\n",
       "  <thead>\n",
       "    <tr style=\"text-align: right;\">\n",
       "      <th></th>\n",
       "      <th>n_works</th>\n",
       "      <th>instance</th>\n",
       "      <th>repetition</th>\n",
       "      <th>algorithm</th>\n",
       "      <th>ticks</th>\n",
       "      <th>time</th>\n",
       "      <th>cost</th>\n",
       "      <th>res_length</th>\n",
       "    </tr>\n",
       "  </thead>\n",
       "  <tbody>\n",
       "    <tr>\n",
       "      <th>0</th>\n",
       "      <td>5</td>\n",
       "      <td>1</td>\n",
       "      <td>1</td>\n",
       "      <td>bottom</td>\n",
       "      <td>14</td>\n",
       "      <td>0.014</td>\n",
       "      <td>174</td>\n",
       "      <td>3</td>\n",
       "    </tr>\n",
       "    <tr>\n",
       "      <th>1</th>\n",
       "      <td>5</td>\n",
       "      <td>1</td>\n",
       "      <td>1</td>\n",
       "      <td>memo</td>\n",
       "      <td>13</td>\n",
       "      <td>0.013</td>\n",
       "      <td>174</td>\n",
       "      <td>3</td>\n",
       "    </tr>\n",
       "    <tr>\n",
       "      <th>2</th>\n",
       "      <td>5</td>\n",
       "      <td>1</td>\n",
       "      <td>2</td>\n",
       "      <td>bottom</td>\n",
       "      <td>11</td>\n",
       "      <td>0.011</td>\n",
       "      <td>174</td>\n",
       "      <td>3</td>\n",
       "    </tr>\n",
       "  </tbody>\n",
       "</table>\n",
       "</div>"
      ],
      "text/plain": [
       "   n_works  instance  repetition algorithm  ticks   time  cost  res_length\n",
       "0        5         1           1    bottom     14  0.014   174           3\n",
       "1        5         1           1      memo     13  0.013   174           3\n",
       "2        5         1           2    bottom     11  0.011   174           3"
      ]
     },
     "execution_count": 58,
     "metadata": {},
     "output_type": "execute_result"
    }
   ],
   "source": [
    "ds = pd.read_csv('./exp/outputs/output.csv')\n",
    "\n",
    "ds[:3]"
   ]
  },
  {
   "cell_type": "code",
   "execution_count": 59,
   "metadata": {
    "collapsed": false
   },
   "outputs": [
    {
     "data": {
      "text/html": [
       "<div>\n",
       "<table border=\"1\" class=\"dataframe\">\n",
       "  <thead>\n",
       "    <tr style=\"text-align: right;\">\n",
       "      <th></th>\n",
       "      <th></th>\n",
       "      <th>time</th>\n",
       "    </tr>\n",
       "    <tr>\n",
       "      <th>algorithm</th>\n",
       "      <th>n_works</th>\n",
       "      <th></th>\n",
       "    </tr>\n",
       "  </thead>\n",
       "  <tbody>\n",
       "    <tr>\n",
       "      <th rowspan=\"3\" valign=\"top\">bottom</th>\n",
       "      <th>5</th>\n",
       "      <td>0.010923</td>\n",
       "    </tr>\n",
       "    <tr>\n",
       "      <th>25</th>\n",
       "      <td>0.048058</td>\n",
       "    </tr>\n",
       "    <tr>\n",
       "      <th>45</th>\n",
       "      <td>0.104152</td>\n",
       "    </tr>\n",
       "  </tbody>\n",
       "</table>\n",
       "</div>"
      ],
      "text/plain": [
       "                       time\n",
       "algorithm n_works          \n",
       "bottom    5        0.010923\n",
       "          25       0.048058\n",
       "          45       0.104152"
      ]
     },
     "execution_count": 59,
     "metadata": {},
     "output_type": "execute_result"
    }
   ],
   "source": [
    "ds_grouped = ds.groupby(['algorithm','n_works']).mean()[['time']]\n",
    "    \n",
    "ds_grouped[:3]"
   ]
  },
  {
   "cell_type": "markdown",
   "metadata": {},
   "source": [
    "# Botton up vs. Memo"
   ]
  },
  {
   "cell_type": "code",
   "execution_count": 60,
   "metadata": {
    "collapsed": false
   },
   "outputs": [
    {
     "data": {
      "image/png": "[encoded data removed]",
      "text/plain": [
       "<matplotlib.figure.Figure at 0x11f032550>"
      ]
     },
     "metadata": {},
     "output_type": "display_data"
    }
   ],
   "source": [
    "plt.style.use('ggplot')\n",
    "plt.style.use('seaborn-notebook')\n",
    "\n",
    "fig, ax = plt.subplots()\n",
    "\n",
    "# ax.set_yscale('log')\n",
    "\n",
    "ax.plot(ds_grouped.xs('bottom'), linewidth=2.0)\n",
    "ax.plot(ds_grouped.xs('memo'), linewidth=2.0)\n",
    "\n",
    "plt.grid(True)\n",
    "\n",
    "legend = ax.legend([u'Bottom Up', u'Memoización'], loc='upper center', bbox_to_anchor=(0.5, -0.2), fancybox=True, shadow=True, ncol=2)\n",
    "frame = legend.get_frame()\n",
    "frame.set_facecolor('white')\n",
    "frame.set_linewidth(0)\n",
    "\n",
    "plt.rcParams.update({'font.size': 8})\n",
    "\n",
    "plt.xlabel(u'Cantidad de trabajos')\n",
    "plt.ylabel(u'Tiempo [ms]')\n",
    "\n",
    "plt.savefig('exp/ej1_bottom_vs_memo.pdf', bbox_inches = 'tight')"
   ]
  },
  {
   "cell_type": "markdown",
   "metadata": {},
   "source": [
    "# Complejidad"
   ]
  },
  {
   "cell_type": "code",
   "execution_count": 61,
   "metadata": {
    "collapsed": false
   },
   "outputs": [
    {
     "data": {
      "text/plain": [
       "<matplotlib.text.Text at 0x11ee840d0>"
      ]
     },
     "execution_count": 61,
     "metadata": {},
     "output_type": "execute_result"
    },
    {
     "data": {
      "image/png": "[encoded data removed]",
      "text/plain": [
       "<matplotlib.figure.Figure at 0x11ec06c50>"
      ]
     },
     "metadata": {},
     "output_type": "display_data"
    }
   ],
   "source": [
    "plt.style.use('ggplot')\n",
    "plt.style.use('seaborn-notebook')\n",
    "\n",
    "fig, ax = plt.subplots()\n",
    "\n",
    "# ax.set_yscale('log')\n",
    "\n",
    "ax.plot(ds_grouped.xs('memo'), linewidth=2.0)\n",
    "\n",
    "plt.grid(True)\n",
    "\n",
    "legend = ax.legend([u'Memoization'], loc='upper center', bbox_to_anchor=(0.5, -0.2), fancybox=True, shadow=True, ncol=1)\n",
    "frame = legend.get_frame()\n",
    "frame.set_facecolor('white')\n",
    "frame.set_linewidth(0)\n",
    "\n",
    "plt.rcParams.update({'font.size': 8})\n",
    "\n",
    "plt.xlabel(u'Cantidad de trabajos')\n",
    "plt.ylabel(u'Tiempo [ms]')\n",
    "\n",
    "# plt.savefig('exp/ej1_complex.pdf', bbox_inches = 'tight')"
   ]
  },
  {
   "cell_type": "markdown",
   "metadata": {},
   "source": [
    "## Coeficiente de Pearson"
   ]
  },
  {
   "cell_type": "code",
   "execution_count": 62,
   "metadata": {
    "collapsed": false
   },
   "outputs": [
    {
     "name": "stdout",
     "output_type": "stream",
     "text": [
      "0.949652 & 0.963788 & 0.996823 & 0.998504 & 0.995087 & 0.977116\n"
     ]
    }
   ],
   "source": [
    "import numpy as np\n",
    "import math\n",
    "\n",
    "\n",
    "t = np.arange(5,500,20)\n",
    "tnlogn = []\n",
    "tn2logn = []\n",
    "\n",
    "for i in range(0, len(t)):\n",
    "    tnlogn.append(math.log(t[i], 2)*t[i])\n",
    "    tn2logn.append(math.log(t[i], 2)*t[i]*t[i])\n",
    "    \n",
    "    \n",
    "group = ds.groupby(['algorithm','n_works']).median().xs('memo').reset_index()\n",
    "# group = ds.groupby(['algorithm','n_works']).median().xs('bottom').reset_index()\n",
    "# print group\n",
    "\n",
    "lin = np.corrcoef(group['ticks'], t)[0,1]\n",
    "nlogn = np.corrcoef(group['ticks'], tnlogn)[0,1]\n",
    "cuad = np.corrcoef(group['ticks'], t**2)[0,1]\n",
    "n2logn = np.corrcoef(group['ticks'], tn2logn)[0,1]\n",
    "cub = np.corrcoef(group['ticks'], t**3)[0,1]\n",
    "cuart = np.corrcoef(group['ticks'], t**4)[0,1]\n",
    "\n",
    "\n",
    "\n",
    "print(str(round(lin,6)) + \" & \" + str(round(nlogn,6)) + \" & \" + str(round(cuad,6)) + \" & \" + str(round(n2logn,6)) + \" & \" + str(round(cub,6)) + \" & \" + str(round(cuart,6)) )\n"
   ]
  }
 ],
 "metadata": {
  "kernelspec": {
   "display_name": "Python 2",
   "language": "python",
   "name": "python2"
  },
  "language_info": {
   "codemirror_mode": {
    "name": "ipython",
    "version": 2
   },
   "file_extension": ".py",
   "mimetype": "text/x-python",
   "name": "python",
   "nbconvert_exporter": "python",
   "pygments_lexer": "ipython2",
   "version": "2.7.13"
  }
 },
 "nbformat": 4,
 "nbformat_minor": 2
}
